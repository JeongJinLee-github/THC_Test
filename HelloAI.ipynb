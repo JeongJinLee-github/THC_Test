{
  "nbformat": 4,
  "nbformat_minor": 0,
  "metadata": {
    "colab": {
      "name": "HelloAI.ipynb",
      "provenance": [],
      "collapsed_sections": [],
      "history_visible": true,
      "authorship_tag": "ABX9TyM6mDa1cuofheuT8Xyf9hGv",
      "include_colab_link": true
    },
    "kernelspec": {
      "name": "python3",
      "display_name": "Python 3"
    }
  },
  "cells": [
    {
      "cell_type": "markdown",
      "metadata": {
        "id": "view-in-github",
        "colab_type": "text"
      },
      "source": [
        "<a href=\"https://colab.research.google.com/github/JeongJinLee-github/THC_Test/blob/master/HelloAI.ipynb\" target=\"_parent\"><img src=\"https://colab.research.google.com/assets/colab-badge.svg\" alt=\"Open In Colab\"/></a>"
      ]
    },
    {
      "cell_type": "code",
      "metadata": {
        "id": "QfzClAE3l_w6",
        "colab_type": "code",
        "colab": {
          "base_uri": "https://localhost:8080/",
          "height": 53
        },
        "outputId": "1e1b6ef1-2c88-4110-b547-4cdc0d73d20b"
      },
      "source": [
        "print('hellow World!!!')\n",
        "print(\"AI의 세계로 오신것을 축하합니다. 반갑습니다!!\")"
      ],
      "execution_count": null,
      "outputs": [
        {
          "output_type": "stream",
          "text": [
            "hellow World!!!\n",
            "AI의 세계로 오신것을 축하합니다. 반갑습니다!!\n"
          ],
          "name": "stdout"
        }
      ]
    },
    {
      "cell_type": "code",
      "metadata": {
        "id": "wY5SumMBwDmE",
        "colab_type": "code",
        "colab": {}
      },
      "source": [
        "try:\n",
        "  %tensorflow_version 2.x\n",
        "except Exception:\n",
        "  pass\n",
        "import tensorflow as tf"
      ],
      "execution_count": 5,
      "outputs": []
    },
    {
      "cell_type": "code",
      "metadata": {
        "id": "lWljt3-Bwfje",
        "colab_type": "code",
        "colab": {
          "base_uri": "https://localhost:8080/",
          "height": 35
        },
        "outputId": "0afff1c1-19e7-46b6-8d30-854fb5a93b53"
      },
      "source": [
        "print(tf.__version__)"
      ],
      "execution_count": 6,
      "outputs": [
        {
          "output_type": "stream",
          "text": [
            "2.3.0\n"
          ],
          "name": "stdout"
        }
      ]
    },
    {
      "cell_type": "code",
      "metadata": {
        "id": "8XCGBa6cAhzv",
        "colab_type": "code",
        "colab": {}
      },
      "source": [
        "rand = tf.random.uniform([1],0,1)"
      ],
      "execution_count": 14,
      "outputs": []
    },
    {
      "cell_type": "code",
      "metadata": {
        "id": "ZkcX1WZ8BcTB",
        "colab_type": "code",
        "colab": {
          "base_uri": "https://localhost:8080/",
          "height": 35
        },
        "outputId": "bf44dcfc-4430-4e9c-9f59-b471e41c147b"
      },
      "source": [
        "print(rand)"
      ],
      "execution_count": 15,
      "outputs": [
        {
          "output_type": "stream",
          "text": [
            "tf.Tensor([0.5950391], shape=(1,), dtype=float32)\n"
          ],
          "name": "stdout"
        }
      ]
    },
    {
      "cell_type": "code",
      "metadata": {
        "id": "RDqqHL8aB3qW",
        "colab_type": "code",
        "colab": {
          "base_uri": "https://localhost:8080/",
          "height": 35
        },
        "outputId": "a9d232d1-2e7d-4c90-dee8-5e9c8e4a2a92"
      },
      "source": [
        "rand_2 = tf.random.uniform([5,],0,1)\n",
        "print(rand_2)"
      ],
      "execution_count": 20,
      "outputs": [
        {
          "output_type": "stream",
          "text": [
            "tf.Tensor([0.06740868 0.16901827 0.34972954 0.45175087 0.7058704 ], shape=(5,), dtype=float32)\n"
          ],
          "name": "stdout"
        }
      ]
    },
    {
      "cell_type": "code",
      "metadata": {
        "id": "62NqpxqWD7DA",
        "colab_type": "code",
        "colab": {
          "base_uri": "https://localhost:8080/",
          "height": 89
        },
        "outputId": "749cc431-e241-445b-b443-36f9ecdff644"
      },
      "source": [
        "rand_2 = tf.random.normal([3,5],0,1)\n",
        "print(rand_2)"
      ],
      "execution_count": 22,
      "outputs": [
        {
          "output_type": "stream",
          "text": [
            "tf.Tensor(\n",
            "[[-0.34825936 -0.2870502   0.15890151  0.82280517 -0.6764802 ]\n",
            " [-0.26516914  0.7487752  -1.3363657  -1.0092747  -0.34565103]\n",
            " [-0.36484715 -2.1550374  -2.4190266   0.93397665 -0.44960573]], shape=(3, 5), dtype=float32)\n"
          ],
          "name": "stdout"
        }
      ]
    }
  ]
}